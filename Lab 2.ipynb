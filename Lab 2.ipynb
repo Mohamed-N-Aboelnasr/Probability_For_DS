{
 "cells": [
  {
   "cell_type": "markdown",
   "metadata": {},
   "source": [
    "<center>\n",
    "    <h1>Mohamed Nasser Aboelnasr</h1>\n",
    "</center>"
   ]
  },
  {
   "cell_type": "markdown",
   "metadata": {},
   "source": [
    "# LAB 2: Indepdenece and Random Variables\n",
    "\n",
    "In this lab you will use python to study the following topics:\n",
    "\n",
    "- Simulate independent events.\n",
    "- Calculate arthemitic mean, sample variance, and sample standard deviation for a dataset."
   ]
  },
  {
   "cell_type": "markdown",
   "metadata": {},
   "source": [
    "# First: you should run this cell"
   ]
  },
  {
   "cell_type": "code",
   "execution_count": 1,
   "metadata": {},
   "outputs": [],
   "source": [
    "# Make all numpy available via shorter 'np' prefix\n",
    "import numpy as np\n",
    "\n",
    "# matplotlib library\n",
    "import matplotlib.pyplot as plt"
   ]
  },
  {
   "cell_type": "markdown",
   "metadata": {},
   "source": [
    "# Problem 1\n",
    "\n",
    "Use NumPy to create simulations and compute **empirical  probability** for the following outcomes. Compare the results with the **theoretical probability**.\n",
    "\n",
    "1. Two fair coin flips produce exactly two heads"
   ]
  },
  {
   "cell_type": "code",
   "execution_count": 2,
   "metadata": {},
   "outputs": [
    {
     "name": "stdout",
     "output_type": "stream",
     "text": [
      "0.2561\n"
     ]
    }
   ],
   "source": [
    "#type your code here:\n",
    "trials=10000\n",
    "outcomes=np.random.randint(0,2,size=(trials,2))\n",
    "y=np.sum(outcomes,axis=1)\n",
    "z=y==2\n",
    "h=np.sum(z)\n",
    "print(h/trials)\n"
   ]
  },
  {
   "cell_type": "markdown",
   "metadata": {},
   "source": [
    "2. Three fair coin flips produce exactly one head"
   ]
  },
  {
   "cell_type": "code",
   "execution_count": 3,
   "metadata": {},
   "outputs": [
    {
     "name": "stdout",
     "output_type": "stream",
     "text": [
      "0.3712\n"
     ]
    }
   ],
   "source": [
    "#type your code here:\n",
    "trials=10000\n",
    "outcomes=np.random.randint(0,2,size=(trials,3))\n",
    "y=np.sum(outcomes,axis=1)\n",
    "z=y==1\n",
    "h=np.sum(z)\n",
    "print(h/trials)\n"
   ]
  },
  {
   "cell_type": "markdown",
   "metadata": {},
   "source": [
    "3. Three biased coin flips with P(H) = 0.6 produce exactly one head"
   ]
  },
  {
   "cell_type": "code",
   "execution_count": 4,
   "metadata": {},
   "outputs": [
    {
     "name": "stdout",
     "output_type": "stream",
     "text": [
      "0.2859\n"
     ]
    }
   ],
   "source": [
    "#type your code here:\n",
    "trials=10000\n",
    "outcomes=np.random.choice(2,size=(trials,3),p=[0.4,0.6])\n",
    "y=np.sum(outcomes,axis=1)\n",
    "z=y==1\n",
    "h=np.sum(z)\n",
    "print(h/trials)\n",
    "\n"
   ]
  },
  {
   "cell_type": "markdown",
   "metadata": {},
   "source": [
    "# Problem 2\n",
    "\n",
    "The probability of rain in a day is p = 0.5. Give the python code to simulate the probability of rain during weekend (**i.e rain on any one of the 2 weekend days Friday Or Saturday**) (assume independence between raining days). Compare the results with the theoretical probability."
   ]
  },
  {
   "cell_type": "code",
   "execution_count": 5,
   "metadata": {},
   "outputs": [
    {
     "name": "stdout",
     "output_type": "stream",
     "text": [
      "0.7474\n"
     ]
    }
   ],
   "source": [
    "#type your code here:\n",
    "trials=10000\n",
    "outcomes=np.random.randint(0,2,size=(trials,2))\n",
    "y=np.sum(outcomes,axis=1)\n",
    "z=y>=1\n",
    "h=np.sum(z)\n",
    "print(h/trials)\n"
   ]
  },
  {
   "cell_type": "markdown",
   "metadata": {},
   "source": [
    "# Problem 3\n",
    "Simulate Rolling a fair die $1000$ times. Then calculate the following:\n",
    "\n",
    "- Sample mean\n",
    "- Sample variance\n",
    "- Sample standard deviation\n",
    "\n",
    "Compare the results with the theoretical probability."
   ]
  },
  {
   "cell_type": "code",
   "execution_count": 6,
   "metadata": {},
   "outputs": [
    {
     "name": "stdout",
     "output_type": "stream",
     "text": [
      "3.4671\n",
      "2.896007190719071\n",
      "1.7017659036186707\n"
     ]
    }
   ],
   "source": [
    "#type your code here:\n",
    "trials=10000\n",
    "outcomes=np.random.randint(1,7,trials)\n",
    "mean=np.sum(outcomes)/trials\n",
    "print(mean)\n",
    "l=[]\n",
    "for i in outcomes:\n",
    "    l.append((mean-i)**2)\n",
    "variance=np.sum(l)/(outcomes.shape[0]-1)\n",
    "print(variance)\n",
    "standard_deviation=np.sqrt(variance)\n",
    "print(standard_deviation)\n",
    "    "
   ]
  },
  {
   "cell_type": "code",
   "execution_count": null,
   "metadata": {},
   "outputs": [],
   "source": []
  }
 ],
 "metadata": {
  "kernelspec": {
   "display_name": "Python 3",
   "language": "python",
   "name": "python3"
  },
  "language_info": {
   "codemirror_mode": {
    "name": "ipython",
    "version": 3
   },
   "file_extension": ".py",
   "mimetype": "text/x-python",
   "name": "python",
   "nbconvert_exporter": "python",
   "pygments_lexer": "ipython3",
   "version": "3.8.8"
  }
 },
 "nbformat": 4,
 "nbformat_minor": 4
}
